{
  "nbformat": 4,
  "nbformat_minor": 0,
  "metadata": {
    "colab": {
      "name": "Processing Pipleline in Spacy.ipynb",
      "provenance": [],
      "authorship_tag": "ABX9TyMQCLvnZgk2Ah/L11SR9SSR",
      "include_colab_link": true
    },
    "kernelspec": {
      "name": "python3",
      "display_name": "Python 3"
    },
    "language_info": {
      "name": "python"
    }
  },
  "cells": [
    {
      "cell_type": "markdown",
      "metadata": {
        "id": "view-in-github",
        "colab_type": "text"
      },
      "source": [
        "<a href=\"https://colab.research.google.com/github/tlokender61/data-science/blob/main/Processing_Pipleline_in_Spacy.ipynb\" target=\"_parent\"><img src=\"https://colab.research.google.com/assets/colab-badge.svg\" alt=\"Open In Colab\"/></a>"
      ]
    },
    {
      "cell_type": "code",
      "metadata": {
        "id": "Lw4dr3zjEZ72"
      },
      "source": [
        "pos_emoji=[\"😀\",\"😁\",\"😆\",\"😅\",\"🤣\",\"🙂\"]\n",
        "neg_emoji=[\"😥\",\"😔\",\"😟\",\"😓\",\"😢\",\"😭\"]\n",
        "\n",
        "pos=[[{'ORTH':emoji}]  for emoji in pos_emoji]\n",
        "neg=[[{'ORTH':emoji}]  for emoji in neg_emoji]"
      ],
      "execution_count": 44,
      "outputs": []
    },
    {
      "cell_type": "code",
      "metadata": {
        "id": "JxtLolmIDL_E"
      },
      "source": [
        "import spacy\n",
        "nlp=spacy.load('en_core_web_sm')\n",
        "from spacy.matcher import  Matcher\n",
        "matcher=Matcher(nlp.vocab)"
      ],
      "execution_count": 45,
      "outputs": []
    },
    {
      "cell_type": "code",
      "metadata": {
        "id": "_NvfEwA8JyY-"
      },
      "source": [
        "def match_sentiment(matcher, doc, i , matches):\n",
        "    match_id,start,end=matches[i]\n",
        "    if(doc.vocab.strings[match_id]=='happy'):\n",
        "      doc.sentiment+=0.1\n",
        "      print('happy matched',doc.sentiment)\n",
        "    elif(doc.vocab.strings[match_id]=='sad'):\n",
        "      doc.sentiment-=0.1\n",
        "      print('sad matched',doc.sentiment)"
      ],
      "execution_count": 55,
      "outputs": []
    },
    {
      "cell_type": "code",
      "metadata": {
        "id": "6Bm4MosZEZw7"
      },
      "source": [
        "matcher.add('happy',match_sentiment,*pos)\n",
        "matcher.add('sad',match_sentiment,*neg)\n",
        "matcher.add('hashtag',None,*[[{'TEXT':'#','IS_ASCII':True}]])"
      ],
      "execution_count": 57,
      "outputs": []
    },
    {
      "cell_type": "code",
      "metadata": {
        "colab": {
          "base_uri": "https://localhost:8080/"
        },
        "id": "4fuInozzIptC",
        "outputId": "c00b1b24-a70f-444a-c4e5-faab2e6c9604"
      },
      "source": [
        "doc=nlp('hello guys 🙂😁 #kgtalki')\n",
        "matches=matcher(doc)"
      ],
      "execution_count": 58,
      "outputs": [
        {
          "output_type": "stream",
          "name": "stdout",
          "text": [
            "happy matched 0.10000000149011612\n",
            "happy matched 0.20000000298023224\n"
          ]
        }
      ]
    },
    {
      "cell_type": "code",
      "metadata": {
        "colab": {
          "base_uri": "https://localhost:8080/"
        },
        "id": "Y_vKxXCCGwrs",
        "outputId": "b19768e5-f0b8-4dbc-aff6-9bdca43cd2ec"
      },
      "source": [
        "for match_id,start,end in matches:\n",
        "  key=doc.vocab.strings[match_id]\n",
        "  span=doc[start:end]\n",
        "  print(key, span.text)\n"
      ],
      "execution_count": 59,
      "outputs": [
        {
          "output_type": "stream",
          "name": "stdout",
          "text": [
            "happy 🙂\n",
            "happy 😁\n",
            "hashtag #\n"
          ]
        }
      ]
    },
    {
      "cell_type": "code",
      "metadata": {
        "colab": {
          "base_uri": "https://localhost:8080/"
        },
        "id": "EaGHUooyMCJI",
        "outputId": "66406dd2-71f0-4ebf-8611-62dec9cfe28b"
      },
      "source": [
        "doc.sentiment"
      ],
      "execution_count": 60,
      "outputs": [
        {
          "output_type": "execute_result",
          "data": {
            "text/plain": [
              "0.20000000298023224"
            ]
          },
          "metadata": {},
          "execution_count": 60
        }
      ]
    },
    {
      "cell_type": "code",
      "metadata": {
        "id": "LpJ9HjfoGW8o"
      },
      "source": [
        ""
      ],
      "execution_count": 50,
      "outputs": []
    }
  ]
}